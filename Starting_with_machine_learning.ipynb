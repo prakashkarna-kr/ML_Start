{
  "nbformat": 4,
  "nbformat_minor": 0,
  "metadata": {
    "colab": {
      "provenance": [],
      "mount_file_id": "1EA_zWTw8T84WQ1RoT01YqFpOKT1t_6O6",
      "authorship_tag": "ABX9TyMWH+7yiIEJiO7QPu92PXkG",
      "include_colab_link": true
    },
    "kernelspec": {
      "name": "python3",
      "display_name": "Python 3"
    },
    "language_info": {
      "name": "python"
    }
  },
  "cells": [
    {
      "cell_type": "markdown",
      "metadata": {
        "id": "view-in-github",
        "colab_type": "text"
      },
      "source": [
        "<a href=\"https://colab.research.google.com/github/prakashkarna-kr/ML_Start/blob/main/Starting_with_machine_learning.ipynb\" target=\"_parent\"><img src=\"https://colab.research.google.com/assets/colab-badge.svg\" alt=\"Open In Colab\"/></a>"
      ]
    },
    {
      "cell_type": "markdown",
      "source": [
        "# Machine Learning"
      ],
      "metadata": {
        "id": "aTDTgihTXU6e"
      }
    },
    {
      "cell_type": "markdown",
      "source": [
        "## Importing Data and Preparation"
      ],
      "metadata": {
        "id": "-VdsO1zJXxg5"
      }
    },
    {
      "cell_type": "code",
      "source": [
        "# import csv in a data frame\n",
        "\n",
        "import pandas as pd\n",
        "df = pd.read_csv('/content/drive/MyDrive/Colab Notebooks/california_housing_train.csv')"
      ],
      "metadata": {
        "id": "NyGCbzwnYBSH"
      },
      "execution_count": 3,
      "outputs": []
    },
    {
      "cell_type": "code",
      "source": [
        "import matplotlib.pyplot as plt\n",
        "plt.scatter(df.longitude, df.latitude)\n",
        "plt.show()"
      ],
      "metadata": {
        "id": "1-DfxSBLdgrx"
      },
      "execution_count": null,
      "outputs": []
    },
    {
      "cell_type": "code",
      "source": [
        "# Validating Data\n",
        "df.duplicated()\n",
        "df[df.duplicated()]"
      ],
      "metadata": {
        "id": "CA1o9IGxgxVX"
      },
      "execution_count": null,
      "outputs": []
    },
    {
      "cell_type": "markdown",
      "source": [],
      "metadata": {
        "id": "t244C8IAhdir"
      }
    },
    {
      "cell_type": "code",
      "source": [
        "#Handeling Outliers\n",
        "\n",
        "print(df.describe())\n",
        "print(df[df.isnull()])"
      ],
      "metadata": {
        "id": "cBmPSGMuhcQd"
      },
      "execution_count": null,
      "outputs": []
    },
    {
      "cell_type": "code",
      "source": [
        "print(df['longitude'])\n",
        "print(df.longitude)\n",
        "# Both methods of calling a colums are same."
      ],
      "metadata": {
        "id": "GsRBXRpEiksZ"
      },
      "execution_count": null,
      "outputs": []
    },
    {
      "cell_type": "code",
      "source": [
        "# Row operation\n",
        "\n",
        "#print(df[0:1]) #it provides a row\n",
        "print(df.loc[0])  #it provides a series"
      ],
      "metadata": {
        "id": "9rzFcHzGjU1k"
      },
      "execution_count": null,
      "outputs": []
    }
  ]
}